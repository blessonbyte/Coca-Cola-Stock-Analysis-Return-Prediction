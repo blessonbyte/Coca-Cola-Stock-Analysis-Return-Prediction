{
 "cells": [
  {
   "cell_type": "code",
   "execution_count": 1,
   "id": "bccebdc5",
   "metadata": {
    "_cell_guid": "b1076dfc-b9ad-4769-8c92-a6c4dae69d19",
    "_uuid": "8f2839f25d086af736a60e9eeb907d3b93b6e0e5",
    "execution": {
     "iopub.execute_input": "2025-07-25T07:00:43.577242Z",
     "iopub.status.busy": "2025-07-25T07:00:43.576920Z",
     "iopub.status.idle": "2025-07-25T07:00:45.440827Z",
     "shell.execute_reply": "2025-07-25T07:00:45.439491Z"
    },
    "papermill": {
     "duration": 1.873591,
     "end_time": "2025-07-25T07:00:45.442401",
     "exception": false,
     "start_time": "2025-07-25T07:00:43.568810",
     "status": "completed"
    },
    "tags": []
   },
   "outputs": [
    {
     "name": "stdout",
     "output_type": "stream",
     "text": [
      "/kaggle/input/coca-cola-metrics/Coca_Cola_Company_Info_Cleaned.xlsx\n",
      "/kaggle/input/coca-cola-stock/daily return classification.csv\n",
      "/kaggle/input/coca-cola-stock/volatility.csv\n",
      "/kaggle/input/coca-cola-stock/SD.csv\n",
      "/kaggle/input/coca-cola-stock/recent trends.csv\n",
      "/kaggle/input/coca-cola-stock/Coca-Cola_stock_history.csv\n",
      "/kaggle/input/coca-cola-stock/Coca-Cola_stock_info.xlsx\n",
      "/kaggle/input/coca-cola-stock/Profitability metrics.csv\n",
      "/kaggle/input/coca-cola-stock/rolling trends and momentum.csv\n",
      "/kaggle/input/coca-cola-stock/volume.csv\n",
      "/kaggle/input/coca-cola-stock/recent price - highest and lowest.csv\n",
      "/kaggle/input/coca-cola-stock/coca_stock_cleaned.xlsx\n",
      "/kaggle/input/coca-cola-stock/KPI comparison.csv\n"
     ]
    }
   ],
   "source": [
    "# This Python 3 environment comes with many helpful analytics libraries installed\n",
    "# It is defined by the kaggle/python Docker image: https://github.com/kaggle/docker-python\n",
    "# For example, here's several helpful packages to load\n",
    "\n",
    "import numpy as np # linear algebra\n",
    "import pandas as pd # data processing, CSV file I/O (e.g. pd.read_csv)\n",
    "\n",
    "# Input data files are available in the read-only \"../input/\" directory\n",
    "# For example, running this (by clicking run or pressing Shift+Enter) will list all files under the input directory\n",
    "\n",
    "import os\n",
    "for dirname, _, filenames in os.walk('/kaggle/input'):\n",
    "    for filename in filenames:\n",
    "        print(os.path.join(dirname, filename))\n",
    "\n",
    "# You can write up to 20GB to the current directory (/kaggle/working/) that gets preserved as output when you create a version using \"Save & Run All\" \n",
    "# You can also write temporary files to /kaggle/temp/, but they won't be saved outside of the current session\n",
    "\n"
   ]
  },
  {
   "cell_type": "code",
   "execution_count": 2,
   "id": "520efbf4",
   "metadata": {
    "execution": {
     "iopub.execute_input": "2025-07-25T07:00:45.456756Z",
     "iopub.status.busy": "2025-07-25T07:00:45.456179Z",
     "iopub.status.idle": "2025-07-25T07:00:55.496095Z",
     "shell.execute_reply": "2025-07-25T07:00:55.494965Z"
    },
    "papermill": {
     "duration": 10.048838,
     "end_time": "2025-07-25T07:00:55.497813",
     "exception": false,
     "start_time": "2025-07-25T07:00:45.448975",
     "status": "completed"
    },
    "tags": []
   },
   "outputs": [
    {
     "name": "stdout",
     "output_type": "stream",
     "text": [
      "Found existing installation: scikit-learn 1.2.2\r\n",
      "Uninstalling scikit-learn-1.2.2:\r\n",
      "  Successfully uninstalled scikit-learn-1.2.2\r\n",
      "Collecting scikit-learn==1.3.2\r\n",
      "  Downloading scikit_learn-1.3.2-cp311-cp311-manylinux_2_17_x86_64.manylinux2014_x86_64.whl.metadata (11 kB)\r\n",
      "Requirement already satisfied: numpy<2.0,>=1.17.3 in /usr/local/lib/python3.11/dist-packages (from scikit-learn==1.3.2) (1.26.4)\r\n",
      "Requirement already satisfied: scipy>=1.5.0 in /usr/local/lib/python3.11/dist-packages (from scikit-learn==1.3.2) (1.15.3)\r\n",
      "Requirement already satisfied: joblib>=1.1.1 in /usr/local/lib/python3.11/dist-packages (from scikit-learn==1.3.2) (1.5.1)\r\n",
      "Requirement already satisfied: threadpoolctl>=2.0.0 in /usr/local/lib/python3.11/dist-packages (from scikit-learn==1.3.2) (3.6.0)\r\n",
      "Requirement already satisfied: mkl_fft in /usr/local/lib/python3.11/dist-packages (from numpy<2.0,>=1.17.3->scikit-learn==1.3.2) (1.3.8)\r\n",
      "Requirement already satisfied: mkl_random in /usr/local/lib/python3.11/dist-packages (from numpy<2.0,>=1.17.3->scikit-learn==1.3.2) (1.2.4)\r\n",
      "Requirement already satisfied: mkl_umath in /usr/local/lib/python3.11/dist-packages (from numpy<2.0,>=1.17.3->scikit-learn==1.3.2) (0.1.1)\r\n",
      "Requirement already satisfied: mkl in /usr/local/lib/python3.11/dist-packages (from numpy<2.0,>=1.17.3->scikit-learn==1.3.2) (2025.2.0)\r\n",
      "Requirement already satisfied: tbb4py in /usr/local/lib/python3.11/dist-packages (from numpy<2.0,>=1.17.3->scikit-learn==1.3.2) (2022.2.0)\r\n",
      "Requirement already satisfied: mkl-service in /usr/local/lib/python3.11/dist-packages (from numpy<2.0,>=1.17.3->scikit-learn==1.3.2) (2.4.1)\r\n",
      "Requirement already satisfied: intel-openmp<2026,>=2024 in /usr/local/lib/python3.11/dist-packages (from mkl->numpy<2.0,>=1.17.3->scikit-learn==1.3.2) (2024.2.0)\r\n",
      "Requirement already satisfied: tbb==2022.* in /usr/local/lib/python3.11/dist-packages (from mkl->numpy<2.0,>=1.17.3->scikit-learn==1.3.2) (2022.2.0)\r\n",
      "Requirement already satisfied: tcmlib==1.* in /usr/local/lib/python3.11/dist-packages (from tbb==2022.*->mkl->numpy<2.0,>=1.17.3->scikit-learn==1.3.2) (1.4.0)\r\n",
      "Requirement already satisfied: intel-cmplr-lib-rt in /usr/local/lib/python3.11/dist-packages (from mkl_umath->numpy<2.0,>=1.17.3->scikit-learn==1.3.2) (2024.2.0)\r\n",
      "Requirement already satisfied: intel-cmplr-lib-ur==2024.2.0 in /usr/local/lib/python3.11/dist-packages (from intel-openmp<2026,>=2024->mkl->numpy<2.0,>=1.17.3->scikit-learn==1.3.2) (2024.2.0)\r\n",
      "Downloading scikit_learn-1.3.2-cp311-cp311-manylinux_2_17_x86_64.manylinux2014_x86_64.whl (10.9 MB)\r\n",
      "\u001b[2K   \u001b[90m━━━━━━━━━━━━━━━━━━━━━━━━━━━━━━━━━━━━━━━━\u001b[0m \u001b[32m10.9/10.9 MB\u001b[0m \u001b[31m92.0 MB/s\u001b[0m eta \u001b[36m0:00:00\u001b[0m\r\n",
      "\u001b[?25hInstalling collected packages: scikit-learn\r\n",
      "\u001b[31mERROR: pip's dependency resolver does not currently take into account all the packages that are installed. This behaviour is the source of the following dependency conflicts.\r\n",
      "cesium 0.12.4 requires numpy<3.0,>=2.0, but you have numpy 1.26.4 which is incompatible.\u001b[0m\u001b[31m\r\n",
      "\u001b[0mSuccessfully installed scikit-learn-1.3.2\r\n"
     ]
    }
   ],
   "source": [
    "!pip uninstall -y scikit-learn\n",
    "!pip install scikit-learn==1.3.2\n"
   ]
  },
  {
   "cell_type": "code",
   "execution_count": 3,
   "id": "a6ab2bb7",
   "metadata": {
    "execution": {
     "iopub.execute_input": "2025-07-25T07:00:55.513105Z",
     "iopub.status.busy": "2025-07-25T07:00:55.512765Z",
     "iopub.status.idle": "2025-07-25T07:01:04.254161Z",
     "shell.execute_reply": "2025-07-25T07:01:04.253028Z"
    },
    "papermill": {
     "duration": 8.751245,
     "end_time": "2025-07-25T07:01:04.255990",
     "exception": false,
     "start_time": "2025-07-25T07:00:55.504745",
     "status": "completed"
    },
    "tags": []
   },
   "outputs": [
    {
     "name": "stdout",
     "output_type": "stream",
     "text": [
      "Found existing installation: scikit-learn 1.3.2\r\n",
      "Uninstalling scikit-learn-1.3.2:\r\n",
      "  Successfully uninstalled scikit-learn-1.3.2\r\n",
      "Found existing installation: imbalanced-learn 0.13.0\r\n",
      "Uninstalling imbalanced-learn-0.13.0:\r\n",
      "  Successfully uninstalled imbalanced-learn-0.13.0\r\n",
      "Collecting scikit-learn==1.4.2\r\n",
      "  Downloading scikit_learn-1.4.2-cp311-cp311-manylinux_2_17_x86_64.manylinux2014_x86_64.whl.metadata (11 kB)\r\n",
      "Collecting imbalanced-learn==0.11.0\r\n",
      "  Downloading imbalanced_learn-0.11.0-py3-none-any.whl.metadata (8.3 kB)\r\n",
      "Requirement already satisfied: numpy>=1.19.5 in /usr/local/lib/python3.11/dist-packages (from scikit-learn==1.4.2) (1.26.4)\r\n",
      "Requirement already satisfied: scipy>=1.6.0 in /usr/local/lib/python3.11/dist-packages (from scikit-learn==1.4.2) (1.15.3)\r\n",
      "Requirement already satisfied: joblib>=1.2.0 in /usr/local/lib/python3.11/dist-packages (from scikit-learn==1.4.2) (1.5.1)\r\n",
      "Requirement already satisfied: threadpoolctl>=2.0.0 in /usr/local/lib/python3.11/dist-packages (from scikit-learn==1.4.2) (3.6.0)\r\n",
      "Requirement already satisfied: mkl_fft in /usr/local/lib/python3.11/dist-packages (from numpy>=1.19.5->scikit-learn==1.4.2) (1.3.8)\r\n",
      "Requirement already satisfied: mkl_random in /usr/local/lib/python3.11/dist-packages (from numpy>=1.19.5->scikit-learn==1.4.2) (1.2.4)\r\n",
      "Requirement already satisfied: mkl_umath in /usr/local/lib/python3.11/dist-packages (from numpy>=1.19.5->scikit-learn==1.4.2) (0.1.1)\r\n",
      "Requirement already satisfied: mkl in /usr/local/lib/python3.11/dist-packages (from numpy>=1.19.5->scikit-learn==1.4.2) (2025.2.0)\r\n",
      "Requirement already satisfied: tbb4py in /usr/local/lib/python3.11/dist-packages (from numpy>=1.19.5->scikit-learn==1.4.2) (2022.2.0)\r\n",
      "Requirement already satisfied: mkl-service in /usr/local/lib/python3.11/dist-packages (from numpy>=1.19.5->scikit-learn==1.4.2) (2.4.1)\r\n",
      "Requirement already satisfied: intel-openmp<2026,>=2024 in /usr/local/lib/python3.11/dist-packages (from mkl->numpy>=1.19.5->scikit-learn==1.4.2) (2024.2.0)\r\n",
      "Requirement already satisfied: tbb==2022.* in /usr/local/lib/python3.11/dist-packages (from mkl->numpy>=1.19.5->scikit-learn==1.4.2) (2022.2.0)\r\n",
      "Requirement already satisfied: tcmlib==1.* in /usr/local/lib/python3.11/dist-packages (from tbb==2022.*->mkl->numpy>=1.19.5->scikit-learn==1.4.2) (1.4.0)\r\n",
      "Requirement already satisfied: intel-cmplr-lib-rt in /usr/local/lib/python3.11/dist-packages (from mkl_umath->numpy>=1.19.5->scikit-learn==1.4.2) (2024.2.0)\r\n",
      "Requirement already satisfied: intel-cmplr-lib-ur==2024.2.0 in /usr/local/lib/python3.11/dist-packages (from intel-openmp<2026,>=2024->mkl->numpy>=1.19.5->scikit-learn==1.4.2) (2024.2.0)\r\n",
      "Downloading scikit_learn-1.4.2-cp311-cp311-manylinux_2_17_x86_64.manylinux2014_x86_64.whl (12.1 MB)\r\n",
      "\u001b[2K   \u001b[90m━━━━━━━━━━━━━━━━━━━━━━━━━━━━━━━━━━━━━━━━\u001b[0m \u001b[32m12.1/12.1 MB\u001b[0m \u001b[31m95.7 MB/s\u001b[0m eta \u001b[36m0:00:00\u001b[0m\r\n",
      "\u001b[?25hDownloading imbalanced_learn-0.11.0-py3-none-any.whl (235 kB)\r\n",
      "\u001b[2K   \u001b[90m━━━━━━━━━━━━━━━━━━━━━━━━━━━━━━━━━━━━━━━━\u001b[0m \u001b[32m235.6/235.6 kB\u001b[0m \u001b[31m13.0 MB/s\u001b[0m eta \u001b[36m0:00:00\u001b[0m\r\n",
      "\u001b[?25hInstalling collected packages: scikit-learn, imbalanced-learn\r\n",
      "\u001b[31mERROR: pip's dependency resolver does not currently take into account all the packages that are installed. This behaviour is the source of the following dependency conflicts.\r\n",
      "cesium 0.12.4 requires numpy<3.0,>=2.0, but you have numpy 1.26.4 which is incompatible.\u001b[0m\u001b[31m\r\n",
      "\u001b[0mSuccessfully installed imbalanced-learn-0.11.0 scikit-learn-1.4.2\r\n"
     ]
    }
   ],
   "source": [
    "!pip uninstall -y scikit-learn imbalanced-learn\n",
    "!pip install scikit-learn==1.4.2 imbalanced-learn==0.11.0\n"
   ]
  },
  {
   "cell_type": "code",
   "execution_count": 4,
   "id": "67fd2a82",
   "metadata": {
    "execution": {
     "iopub.execute_input": "2025-07-25T07:01:04.273022Z",
     "iopub.status.busy": "2025-07-25T07:01:04.272072Z",
     "iopub.status.idle": "2025-07-25T07:01:11.642777Z",
     "shell.execute_reply": "2025-07-25T07:01:11.641800Z"
    },
    "papermill": {
     "duration": 7.380884,
     "end_time": "2025-07-25T07:01:11.644391",
     "exception": false,
     "start_time": "2025-07-25T07:01:04.263507",
     "status": "completed"
    },
    "tags": []
   },
   "outputs": [
    {
     "name": "stdout",
     "output_type": "stream",
     "text": [
      "Requirement already satisfied: scikit-learn in /usr/local/lib/python3.11/dist-packages (1.4.2)\r\n",
      "Collecting scikit-learn\r\n",
      "  Downloading scikit_learn-1.7.1-cp311-cp311-manylinux2014_x86_64.manylinux_2_17_x86_64.whl.metadata (11 kB)\r\n",
      "Requirement already satisfied: imbalanced-learn in /usr/local/lib/python3.11/dist-packages (0.11.0)\r\n",
      "Collecting imbalanced-learn\r\n",
      "  Downloading imbalanced_learn-0.13.0-py3-none-any.whl.metadata (8.8 kB)\r\n",
      "Requirement already satisfied: numpy>=1.22.0 in /usr/local/lib/python3.11/dist-packages (from scikit-learn) (1.26.4)\r\n",
      "Requirement already satisfied: scipy>=1.8.0 in /usr/local/lib/python3.11/dist-packages (from scikit-learn) (1.15.3)\r\n",
      "Requirement already satisfied: joblib>=1.2.0 in /usr/local/lib/python3.11/dist-packages (from scikit-learn) (1.5.1)\r\n",
      "Requirement already satisfied: threadpoolctl>=3.1.0 in /usr/local/lib/python3.11/dist-packages (from scikit-learn) (3.6.0)\r\n",
      "Requirement already satisfied: sklearn-compat<1,>=0.1 in /usr/local/lib/python3.11/dist-packages (from imbalanced-learn) (0.1.3)\r\n",
      "Requirement already satisfied: mkl_fft in /usr/local/lib/python3.11/dist-packages (from numpy>=1.22.0->scikit-learn) (1.3.8)\r\n",
      "Requirement already satisfied: mkl_random in /usr/local/lib/python3.11/dist-packages (from numpy>=1.22.0->scikit-learn) (1.2.4)\r\n",
      "Requirement already satisfied: mkl_umath in /usr/local/lib/python3.11/dist-packages (from numpy>=1.22.0->scikit-learn) (0.1.1)\r\n",
      "Requirement already satisfied: mkl in /usr/local/lib/python3.11/dist-packages (from numpy>=1.22.0->scikit-learn) (2025.2.0)\r\n",
      "Requirement already satisfied: tbb4py in /usr/local/lib/python3.11/dist-packages (from numpy>=1.22.0->scikit-learn) (2022.2.0)\r\n",
      "Requirement already satisfied: mkl-service in /usr/local/lib/python3.11/dist-packages (from numpy>=1.22.0->scikit-learn) (2.4.1)\r\n",
      "Collecting scikit-learn\r\n",
      "  Downloading scikit_learn-1.6.1-cp311-cp311-manylinux_2_17_x86_64.manylinux2014_x86_64.whl.metadata (18 kB)\r\n",
      "Requirement already satisfied: intel-openmp<2026,>=2024 in /usr/local/lib/python3.11/dist-packages (from mkl->numpy>=1.22.0->scikit-learn) (2024.2.0)\r\n",
      "Requirement already satisfied: tbb==2022.* in /usr/local/lib/python3.11/dist-packages (from mkl->numpy>=1.22.0->scikit-learn) (2022.2.0)\r\n",
      "Requirement already satisfied: tcmlib==1.* in /usr/local/lib/python3.11/dist-packages (from tbb==2022.*->mkl->numpy>=1.22.0->scikit-learn) (1.4.0)\r\n",
      "Requirement already satisfied: intel-cmplr-lib-rt in /usr/local/lib/python3.11/dist-packages (from mkl_umath->numpy>=1.22.0->scikit-learn) (2024.2.0)\r\n",
      "Requirement already satisfied: intel-cmplr-lib-ur==2024.2.0 in /usr/local/lib/python3.11/dist-packages (from intel-openmp<2026,>=2024->mkl->numpy>=1.22.0->scikit-learn) (2024.2.0)\r\n",
      "Downloading imbalanced_learn-0.13.0-py3-none-any.whl (238 kB)\r\n",
      "\u001b[2K   \u001b[90m━━━━━━━━━━━━━━━━━━━━━━━━━━━━━━━━━━━━━━━━\u001b[0m \u001b[32m238.4/238.4 kB\u001b[0m \u001b[31m11.9 MB/s\u001b[0m eta \u001b[36m0:00:00\u001b[0m\r\n",
      "\u001b[?25hDownloading scikit_learn-1.6.1-cp311-cp311-manylinux_2_17_x86_64.manylinux2014_x86_64.whl (13.5 MB)\r\n",
      "\u001b[2K   \u001b[90m━━━━━━━━━━━━━━━━━━━━━━━━━━━━━━━━━━━━━━━━\u001b[0m \u001b[32m13.5/13.5 MB\u001b[0m \u001b[31m94.2 MB/s\u001b[0m eta \u001b[36m0:00:00\u001b[0m\r\n",
      "\u001b[?25hInstalling collected packages: scikit-learn, imbalanced-learn\r\n",
      "  Attempting uninstall: scikit-learn\r\n",
      "    Found existing installation: scikit-learn 1.4.2\r\n",
      "    Uninstalling scikit-learn-1.4.2:\r\n",
      "      Successfully uninstalled scikit-learn-1.4.2\r\n",
      "  Attempting uninstall: imbalanced-learn\r\n",
      "    Found existing installation: imbalanced-learn 0.11.0\r\n",
      "    Uninstalling imbalanced-learn-0.11.0:\r\n",
      "      Successfully uninstalled imbalanced-learn-0.11.0\r\n",
      "\u001b[31mERROR: pip's dependency resolver does not currently take into account all the packages that are installed. This behaviour is the source of the following dependency conflicts.\r\n",
      "category-encoders 2.7.0 requires scikit-learn<1.6.0,>=1.0.0, but you have scikit-learn 1.6.1 which is incompatible.\r\n",
      "cesium 0.12.4 requires numpy<3.0,>=2.0, but you have numpy 1.26.4 which is incompatible.\u001b[0m\u001b[31m\r\n",
      "\u001b[0mSuccessfully installed imbalanced-learn-0.13.0 scikit-learn-1.6.1\r\n"
     ]
    }
   ],
   "source": [
    "!pip install --upgrade scikit-learn imbalanced-learn"
   ]
  },
  {
   "cell_type": "code",
   "execution_count": 5,
   "id": "921a0047",
   "metadata": {
    "execution": {
     "iopub.execute_input": "2025-07-25T07:01:11.662462Z",
     "iopub.status.busy": "2025-07-25T07:01:11.662144Z",
     "iopub.status.idle": "2025-07-25T07:01:14.767112Z",
     "shell.execute_reply": "2025-07-25T07:01:14.766179Z"
    },
    "papermill": {
     "duration": 3.115136,
     "end_time": "2025-07-25T07:01:14.768381",
     "exception": false,
     "start_time": "2025-07-25T07:01:11.653245",
     "status": "completed"
    },
    "tags": []
   },
   "outputs": [
    {
     "name": "stdout",
     "output_type": "stream",
     "text": [
      "Stock Data:\n"
     ]
    },
    {
     "data": {
      "text/html": [
       "<div>\n",
       "<style scoped>\n",
       "    .dataframe tbody tr th:only-of-type {\n",
       "        vertical-align: middle;\n",
       "    }\n",
       "\n",
       "    .dataframe tbody tr th {\n",
       "        vertical-align: top;\n",
       "    }\n",
       "\n",
       "    .dataframe thead th {\n",
       "        text-align: right;\n",
       "    }\n",
       "</style>\n",
       "<table border=\"1\" class=\"dataframe\">\n",
       "  <thead>\n",
       "    <tr style=\"text-align: right;\">\n",
       "      <th></th>\n",
       "      <th>Date</th>\n",
       "      <th>Open</th>\n",
       "      <th>High</th>\n",
       "      <th>Low</th>\n",
       "      <th>Close</th>\n",
       "      <th>Volume</th>\n",
       "      <th>Dividends</th>\n",
       "      <th>Stock_Splits</th>\n",
       "      <th>Daily_Return</th>\n",
       "      <th>Price_Range</th>\n",
       "      <th>Moving_Avg _(5-day)</th>\n",
       "      <th>Cumulative_Return</th>\n",
       "    </tr>\n",
       "  </thead>\n",
       "  <tbody>\n",
       "    <tr>\n",
       "      <th>0</th>\n",
       "      <td>1962-01-02 00:00:00</td>\n",
       "      <td>0.050016</td>\n",
       "      <td>0.051378</td>\n",
       "      <td>0.050016</td>\n",
       "      <td>0.050016</td>\n",
       "      <td>806400</td>\n",
       "      <td>0.0</td>\n",
       "      <td>0</td>\n",
       "      <td>0.000000</td>\n",
       "      <td>0.001362</td>\n",
       "      <td>0.048803</td>\n",
       "      <td>1.000000</td>\n",
       "    </tr>\n",
       "    <tr>\n",
       "      <th>1</th>\n",
       "      <td>1962-01-03 00:00:00</td>\n",
       "      <td>0.049273</td>\n",
       "      <td>0.049273</td>\n",
       "      <td>0.048159</td>\n",
       "      <td>0.048902</td>\n",
       "      <td>1574400</td>\n",
       "      <td>0.0</td>\n",
       "      <td>0</td>\n",
       "      <td>-0.007541</td>\n",
       "      <td>0.001114</td>\n",
       "      <td>0.048505</td>\n",
       "      <td>0.992459</td>\n",
       "    </tr>\n",
       "    <tr>\n",
       "      <th>2</th>\n",
       "      <td>1962-01-04 00:00:00</td>\n",
       "      <td>0.049026</td>\n",
       "      <td>0.049645</td>\n",
       "      <td>0.049026</td>\n",
       "      <td>0.049273</td>\n",
       "      <td>844800</td>\n",
       "      <td>0.0</td>\n",
       "      <td>0</td>\n",
       "      <td>0.005050</td>\n",
       "      <td>0.000619</td>\n",
       "      <td>0.048481</td>\n",
       "      <td>0.997471</td>\n",
       "    </tr>\n",
       "    <tr>\n",
       "      <th>3</th>\n",
       "      <td>1962-01-05 00:00:00</td>\n",
       "      <td>0.049273</td>\n",
       "      <td>0.049892</td>\n",
       "      <td>0.048035</td>\n",
       "      <td>0.048159</td>\n",
       "      <td>1420800</td>\n",
       "      <td>0.0</td>\n",
       "      <td>0</td>\n",
       "      <td>-0.022615</td>\n",
       "      <td>0.001857</td>\n",
       "      <td>0.048481</td>\n",
       "      <td>0.974913</td>\n",
       "    </tr>\n",
       "    <tr>\n",
       "      <th>4</th>\n",
       "      <td>1962-01-08 00:00:00</td>\n",
       "      <td>0.047787</td>\n",
       "      <td>0.047787</td>\n",
       "      <td>0.046735</td>\n",
       "      <td>0.047664</td>\n",
       "      <td>2035200</td>\n",
       "      <td>0.0</td>\n",
       "      <td>0</td>\n",
       "      <td>-0.002591</td>\n",
       "      <td>0.001052</td>\n",
       "      <td>0.048629</td>\n",
       "      <td>0.972387</td>\n",
       "    </tr>\n",
       "  </tbody>\n",
       "</table>\n",
       "</div>"
      ],
      "text/plain": [
       "                  Date      Open      High       Low     Close   Volume  \\\n",
       "0  1962-01-02 00:00:00  0.050016  0.051378  0.050016  0.050016   806400   \n",
       "1  1962-01-03 00:00:00  0.049273  0.049273  0.048159  0.048902  1574400   \n",
       "2  1962-01-04 00:00:00  0.049026  0.049645  0.049026  0.049273   844800   \n",
       "3  1962-01-05 00:00:00  0.049273  0.049892  0.048035  0.048159  1420800   \n",
       "4  1962-01-08 00:00:00  0.047787  0.047787  0.046735  0.047664  2035200   \n",
       "\n",
       "   Dividends  Stock_Splits  Daily_Return  Price_Range  Moving_Avg _(5-day)  \\\n",
       "0        0.0             0      0.000000     0.001362             0.048803   \n",
       "1        0.0             0     -0.007541     0.001114             0.048505   \n",
       "2        0.0             0      0.005050     0.000619             0.048481   \n",
       "3        0.0             0     -0.022615     0.001857             0.048481   \n",
       "4        0.0             0     -0.002591     0.001052             0.048629   \n",
       "\n",
       "   Cumulative_Return  \n",
       "0           1.000000  \n",
       "1           0.992459  \n",
       "2           0.997471  \n",
       "3           0.974913  \n",
       "4           0.972387  "
      ]
     },
     "metadata": {},
     "output_type": "display_data"
    },
    {
     "name": "stdout",
     "output_type": "stream",
     "text": [
      "\n",
      "Company Metrics:\n"
     ]
    },
    {
     "data": {
      "text/html": [
       "<div>\n",
       "<style scoped>\n",
       "    .dataframe tbody tr th:only-of-type {\n",
       "        vertical-align: middle;\n",
       "    }\n",
       "\n",
       "    .dataframe tbody tr th {\n",
       "        vertical-align: top;\n",
       "    }\n",
       "\n",
       "    .dataframe thead th {\n",
       "        text-align: right;\n",
       "    }\n",
       "</style>\n",
       "<table border=\"1\" class=\"dataframe\">\n",
       "  <thead>\n",
       "    <tr style=\"text-align: right;\">\n",
       "      <th></th>\n",
       "      <th>metric</th>\n",
       "      <th>value</th>\n",
       "    </tr>\n",
       "  </thead>\n",
       "  <tbody>\n",
       "    <tr>\n",
       "      <th>0</th>\n",
       "      <td>zip</td>\n",
       "      <td>30313</td>\n",
       "    </tr>\n",
       "    <tr>\n",
       "      <th>1</th>\n",
       "      <td>sector</td>\n",
       "      <td>Consumer Defensive</td>\n",
       "    </tr>\n",
       "    <tr>\n",
       "      <th>2</th>\n",
       "      <td>full_time_employees</td>\n",
       "      <td>80300</td>\n",
       "    </tr>\n",
       "    <tr>\n",
       "      <th>3</th>\n",
       "      <td>long_business_summary</td>\n",
       "      <td>The Coca-Cola Company, a beverage company, man...</td>\n",
       "    </tr>\n",
       "    <tr>\n",
       "      <th>4</th>\n",
       "      <td>city</td>\n",
       "      <td>Atlanta</td>\n",
       "    </tr>\n",
       "  </tbody>\n",
       "</table>\n",
       "</div>"
      ],
      "text/plain": [
       "                  metric                                              value\n",
       "0                    zip                                              30313\n",
       "1                 sector                                 Consumer Defensive\n",
       "2    full_time_employees                                              80300\n",
       "3  long_business_summary  The Coca-Cola Company, a beverage company, man...\n",
       "4                   city                                            Atlanta"
      ]
     },
     "metadata": {},
     "output_type": "display_data"
    }
   ],
   "source": [
    "import os\n",
    "\n",
    "import pandas as pd\n",
    "\n",
    "stock_df = pd.read_excel('/kaggle/input/coca-cola-stock/coca_stock_cleaned.xlsx')\n",
    "\n",
    "metrics_df = pd.read_excel('/kaggle/input/coca-cola-metrics/Coca_Cola_Company_Info_Cleaned.xlsx')\n",
    "\n",
    "print(\"Stock Data:\")\n",
    "display(stock_df.head())\n",
    "\n",
    "print(\"\\nCompany Metrics:\")\n",
    "display(metrics_df.head())\n",
    "\n"
   ]
  },
  {
   "cell_type": "code",
   "execution_count": 6,
   "id": "89adfd9a",
   "metadata": {
    "execution": {
     "iopub.execute_input": "2025-07-25T07:01:14.786835Z",
     "iopub.status.busy": "2025-07-25T07:01:14.786383Z",
     "iopub.status.idle": "2025-07-25T07:01:14.791376Z",
     "shell.execute_reply": "2025-07-25T07:01:14.790344Z"
    },
    "papermill": {
     "duration": 0.015942,
     "end_time": "2025-07-25T07:01:14.792970",
     "exception": false,
     "start_time": "2025-07-25T07:01:14.777028",
     "status": "completed"
    },
    "tags": []
   },
   "outputs": [
    {
     "name": "stdout",
     "output_type": "stream",
     "text": [
      "Stock dataset shape: (15311, 12)\n",
      "Metrics dataset shape: (121, 2)\n"
     ]
    }
   ],
   "source": [
    "print(\"Stock dataset shape:\", stock_df.shape)\n",
    "print(\"Metrics dataset shape:\", metrics_df.shape)\n"
   ]
  },
  {
   "cell_type": "code",
   "execution_count": 7,
   "id": "c3910384",
   "metadata": {
    "execution": {
     "iopub.execute_input": "2025-07-25T07:01:14.812571Z",
     "iopub.status.busy": "2025-07-25T07:01:14.811950Z",
     "iopub.status.idle": "2025-07-25T07:01:14.830302Z",
     "shell.execute_reply": "2025-07-25T07:01:14.829314Z"
    },
    "papermill": {
     "duration": 0.02994,
     "end_time": "2025-07-25T07:01:14.831770",
     "exception": false,
     "start_time": "2025-07-25T07:01:14.801830",
     "status": "completed"
    },
    "tags": []
   },
   "outputs": [
    {
     "name": "stdout",
     "output_type": "stream",
     "text": [
      "Index(['date', 'daily_return', 'return_direction'], dtype='object')\n",
      "         date daily_return return_direction\n",
      "0  01-02-1962         -             NEUTRAL\n",
      "1  01-02-1963      0.0083                UP\n",
      "2  01-02-1965     -0.0089              DOWN\n",
      "3  01-02-1966      0.0086                UP\n",
      "4  01-02-1967     -0.0066              DOWN\n"
     ]
    }
   ],
   "source": [
    "classification_df = pd.read_csv(\"/kaggle/input/coca-cola-stock/daily return classification.csv\")\n",
    "\n",
    "print(classification_df.columns)\n",
    "print(classification_df.head())\n"
   ]
  },
  {
   "cell_type": "code",
   "execution_count": 8,
   "id": "fb46e6fe",
   "metadata": {
    "execution": {
     "iopub.execute_input": "2025-07-25T07:01:14.850465Z",
     "iopub.status.busy": "2025-07-25T07:01:14.850146Z",
     "iopub.status.idle": "2025-07-25T07:01:14.914896Z",
     "shell.execute_reply": "2025-07-25T07:01:14.914113Z"
    },
    "papermill": {
     "duration": 0.075905,
     "end_time": "2025-07-25T07:01:14.916474",
     "exception": false,
     "start_time": "2025-07-25T07:01:14.840569",
     "status": "completed"
    },
    "tags": []
   },
   "outputs": [],
   "source": [
    "import datetime\n",
    "\n",
    "stock_df['Date'] = stock_df['Date'].astype(str)\n",
    "\n",
    "stock_df['Date'] = pd.to_datetime(stock_df['Date'], errors='coerce')\n",
    "\n",
    "stock_df['Date'] = stock_df['Date'].apply(lambda x: x.tz_localize(None) if pd.notna(x) and x.tzinfo else x)\n"
   ]
  },
  {
   "cell_type": "code",
   "execution_count": 9,
   "id": "9df45979",
   "metadata": {
    "execution": {
     "iopub.execute_input": "2025-07-25T07:01:14.934956Z",
     "iopub.status.busy": "2025-07-25T07:01:14.934662Z",
     "iopub.status.idle": "2025-07-25T07:01:14.960265Z",
     "shell.execute_reply": "2025-07-25T07:01:14.959539Z"
    },
    "papermill": {
     "duration": 0.036618,
     "end_time": "2025-07-25T07:01:14.961794",
     "exception": false,
     "start_time": "2025-07-25T07:01:14.925176",
     "status": "completed"
    },
    "tags": []
   },
   "outputs": [],
   "source": [
    "classification_df['date'] = pd.to_datetime(classification_df['date'], errors='coerce')\n",
    "merged_df = pd.merge(stock_df, classification_df, left_on='Date', right_on='date', how='inner')\n"
   ]
  },
  {
   "cell_type": "code",
   "execution_count": 10,
   "id": "8d999fad",
   "metadata": {
    "execution": {
     "iopub.execute_input": "2025-07-25T07:01:14.980217Z",
     "iopub.status.busy": "2025-07-25T07:01:14.979907Z",
     "iopub.status.idle": "2025-07-25T07:01:14.984764Z",
     "shell.execute_reply": "2025-07-25T07:01:14.983881Z"
    },
    "papermill": {
     "duration": 0.015648,
     "end_time": "2025-07-25T07:01:14.986133",
     "exception": false,
     "start_time": "2025-07-25T07:01:14.970485",
     "status": "completed"
    },
    "tags": []
   },
   "outputs": [
    {
     "name": "stdout",
     "output_type": "stream",
     "text": [
      "✅ Final merged shape: (569, 15)\n"
     ]
    }
   ],
   "source": [
    "\n",
    "print(\"✅ Final merged shape:\", merged_df.shape)"
   ]
  },
  {
   "cell_type": "code",
   "execution_count": 11,
   "id": "ac3f0775",
   "metadata": {
    "execution": {
     "iopub.execute_input": "2025-07-25T07:01:15.004926Z",
     "iopub.status.busy": "2025-07-25T07:01:15.004613Z",
     "iopub.status.idle": "2025-07-25T07:01:15.008755Z",
     "shell.execute_reply": "2025-07-25T07:01:15.008035Z"
    },
    "papermill": {
     "duration": 0.014918,
     "end_time": "2025-07-25T07:01:15.009994",
     "exception": false,
     "start_time": "2025-07-25T07:01:14.995076",
     "status": "completed"
    },
    "tags": []
   },
   "outputs": [],
   "source": [
    "\n",
    "target = 'return_direction'   \n",
    "\n",
    "features = ['Open', 'High', 'Low', 'Volume', 'Moving_Avg_5day', 'RSI', 'Cumulative_Return']\n"
   ]
  },
  {
   "cell_type": "code",
   "execution_count": 12,
   "id": "3e6d6134",
   "metadata": {
    "execution": {
     "iopub.execute_input": "2025-07-25T07:01:15.028719Z",
     "iopub.status.busy": "2025-07-25T07:01:15.028391Z",
     "iopub.status.idle": "2025-07-25T07:01:15.033212Z",
     "shell.execute_reply": "2025-07-25T07:01:15.032263Z"
    },
    "papermill": {
     "duration": 0.015734,
     "end_time": "2025-07-25T07:01:15.034585",
     "exception": false,
     "start_time": "2025-07-25T07:01:15.018851",
     "status": "completed"
    },
    "tags": []
   },
   "outputs": [
    {
     "name": "stdout",
     "output_type": "stream",
     "text": [
      "['Date', 'Open', 'High', 'Low', 'Close', 'Volume', 'Dividends', 'Stock_Splits', 'Daily_Return', 'Price_Range', 'Moving_Avg _(5-day)', 'Cumulative_Return']\n"
     ]
    }
   ],
   "source": [
    "print(stock_df.columns.tolist())\n",
    "\n"
   ]
  },
  {
   "cell_type": "code",
   "execution_count": 13,
   "id": "dde7c3de",
   "metadata": {
    "execution": {
     "iopub.execute_input": "2025-07-25T07:01:15.052823Z",
     "iopub.status.busy": "2025-07-25T07:01:15.052549Z",
     "iopub.status.idle": "2025-07-25T07:01:15.085063Z",
     "shell.execute_reply": "2025-07-25T07:01:15.084273Z"
    },
    "papermill": {
     "duration": 0.043375,
     "end_time": "2025-07-25T07:01:15.086557",
     "exception": false,
     "start_time": "2025-07-25T07:01:15.043182",
     "status": "completed"
    },
    "tags": []
   },
   "outputs": [],
   "source": [
    "\n",
    "stock_df['Daily_Return'] = stock_df['Close'].pct_change()\n",
    "\n",
    "def classify_return(x):\n",
    "    if x > 0:\n",
    "        return 'Up'\n",
    "    elif x < 0:\n",
    "        return 'Down'\n",
    "    else:\n",
    "        return 'Same'\n",
    "\n",
    "stock_df['return_direction'] = stock_df['Daily_Return'].apply(classify_return)\n",
    "\n",
    "stock_df = stock_df.dropna(subset=['Daily_Return']).reset_index(drop=True)\n"
   ]
  },
  {
   "cell_type": "code",
   "execution_count": 14,
   "id": "41ab0d27",
   "metadata": {
    "execution": {
     "iopub.execute_input": "2025-07-25T07:01:15.105640Z",
     "iopub.status.busy": "2025-07-25T07:01:15.105191Z",
     "iopub.status.idle": "2025-07-25T07:01:16.447614Z",
     "shell.execute_reply": "2025-07-25T07:01:16.446562Z"
    },
    "papermill": {
     "duration": 1.354098,
     "end_time": "2025-07-25T07:01:16.449502",
     "exception": false,
     "start_time": "2025-07-25T07:01:15.095404",
     "status": "completed"
    },
    "tags": []
   },
   "outputs": [],
   "source": [
    "from sklearn.preprocessing import LabelEncoder\n",
    "\n",
    "le = LabelEncoder()\n",
    "stock_df['return_direction_encoded'] = le.fit_transform(stock_df['return_direction'])\n"
   ]
  },
  {
   "cell_type": "code",
   "execution_count": 15,
   "id": "0f24590f",
   "metadata": {
    "execution": {
     "iopub.execute_input": "2025-07-25T07:01:16.476643Z",
     "iopub.status.busy": "2025-07-25T07:01:16.476093Z",
     "iopub.status.idle": "2025-07-25T07:01:16.482972Z",
     "shell.execute_reply": "2025-07-25T07:01:16.481984Z"
    },
    "papermill": {
     "duration": 0.02227,
     "end_time": "2025-07-25T07:01:16.484904",
     "exception": false,
     "start_time": "2025-07-25T07:01:16.462634",
     "status": "completed"
    },
    "tags": []
   },
   "outputs": [],
   "source": [
    "\n",
    "X = stock_df.drop(columns=['Date', 'return_direction', 'return_direction_encoded'])\n",
    "y = stock_df['return_direction_encoded']\n"
   ]
  },
  {
   "cell_type": "code",
   "execution_count": 16,
   "id": "09932316",
   "metadata": {
    "execution": {
     "iopub.execute_input": "2025-07-25T07:01:16.515091Z",
     "iopub.status.busy": "2025-07-25T07:01:16.514157Z",
     "iopub.status.idle": "2025-07-25T07:01:16.571813Z",
     "shell.execute_reply": "2025-07-25T07:01:16.570870Z"
    },
    "papermill": {
     "duration": 0.074888,
     "end_time": "2025-07-25T07:01:16.573479",
     "exception": false,
     "start_time": "2025-07-25T07:01:16.498591",
     "status": "completed"
    },
    "tags": []
   },
   "outputs": [
    {
     "name": "stdout",
     "output_type": "stream",
     "text": [
      "Training set size: (12248, 11)\n",
      "Testing set size: (3062, 11)\n"
     ]
    }
   ],
   "source": [
    "from sklearn.model_selection import train_test_split\n",
    "\n",
    "X_train, X_test, y_train, y_test = train_test_split(X, y, test_size=0.2, random_state=42, stratify=y)\n",
    "\n",
    "print(\"Training set size:\", X_train.shape)\n",
    "print(\"Testing set size:\", X_test.shape)\n"
   ]
  },
  {
   "cell_type": "code",
   "execution_count": 17,
   "id": "176e02a4",
   "metadata": {
    "execution": {
     "iopub.execute_input": "2025-07-25T07:01:16.659225Z",
     "iopub.status.busy": "2025-07-25T07:01:16.657629Z",
     "iopub.status.idle": "2025-07-25T07:01:18.759372Z",
     "shell.execute_reply": "2025-07-25T07:01:18.758368Z"
    },
    "papermill": {
     "duration": 2.1785,
     "end_time": "2025-07-25T07:01:18.760977",
     "exception": false,
     "start_time": "2025-07-25T07:01:16.582477",
     "status": "completed"
    },
    "tags": []
   },
   "outputs": [
    {
     "name": "stdout",
     "output_type": "stream",
     "text": [
      "Accuracy: 1.0\n",
      "Classification Report:\n",
      "               precision    recall  f1-score   support\n",
      "\n",
      "           0       1.00      1.00      1.00      1404\n",
      "           1       1.00      1.00      1.00       157\n",
      "           2       1.00      1.00      1.00      1501\n",
      "\n",
      "    accuracy                           1.00      3062\n",
      "   macro avg       1.00      1.00      1.00      3062\n",
      "weighted avg       1.00      1.00      1.00      3062\n",
      "\n"
     ]
    }
   ],
   "source": [
    "from sklearn.ensemble import RandomForestClassifier\n",
    "from sklearn.metrics import classification_report, accuracy_score\n",
    "\n",
    "model = RandomForestClassifier(random_state=42)\n",
    "model.fit(X_train, y_train)\n",
    "\n",
    "y_pred = model.predict(X_test)\n",
    "\n",
    "print(\"Accuracy:\", accuracy_score(y_test, y_pred))\n",
    "print(\"Classification Report:\\n\", classification_report(y_test, y_pred))\n"
   ]
  },
  {
   "cell_type": "code",
   "execution_count": 18,
   "id": "b50919cd",
   "metadata": {
    "execution": {
     "iopub.execute_input": "2025-07-25T07:01:18.780458Z",
     "iopub.status.busy": "2025-07-25T07:01:18.779883Z",
     "iopub.status.idle": "2025-07-25T07:01:18.785221Z",
     "shell.execute_reply": "2025-07-25T07:01:18.784230Z"
    },
    "papermill": {
     "duration": 0.016666,
     "end_time": "2025-07-25T07:01:18.786707",
     "exception": false,
     "start_time": "2025-07-25T07:01:18.770041",
     "status": "completed"
    },
    "tags": []
   },
   "outputs": [
    {
     "name": "stdout",
     "output_type": "stream",
     "text": [
      "Index(['Date', 'Open', 'High', 'Low', 'Close', 'Volume', 'Dividends',\n",
      "       'Stock_Splits', 'Daily_Return', 'Price_Range', 'Moving_Avg _(5-day)',\n",
      "       'Cumulative_Return', 'return_direction', 'return_direction_encoded'],\n",
      "      dtype='object')\n"
     ]
    }
   ],
   "source": [
    "print(stock_df.columns)\n"
   ]
  },
  {
   "cell_type": "code",
   "execution_count": 19,
   "id": "659c839f",
   "metadata": {
    "execution": {
     "iopub.execute_input": "2025-07-25T07:01:18.806308Z",
     "iopub.status.busy": "2025-07-25T07:01:18.805987Z",
     "iopub.status.idle": "2025-07-25T07:01:18.811755Z",
     "shell.execute_reply": "2025-07-25T07:01:18.810851Z"
    },
    "papermill": {
     "duration": 0.017071,
     "end_time": "2025-07-25T07:01:18.813226",
     "exception": false,
     "start_time": "2025-07-25T07:01:18.796155",
     "status": "completed"
    },
    "tags": []
   },
   "outputs": [],
   "source": [
    "X = stock_df.drop(columns=['Date', 'return_direction', 'return_direction_encoded', 'Daily_Return']) \n",
    "y = stock_df['return_direction_encoded']\n"
   ]
  },
  {
   "cell_type": "code",
   "execution_count": 20,
   "id": "55ebc615",
   "metadata": {
    "execution": {
     "iopub.execute_input": "2025-07-25T07:01:18.832850Z",
     "iopub.status.busy": "2025-07-25T07:01:18.832533Z",
     "iopub.status.idle": "2025-07-25T07:01:24.905074Z",
     "shell.execute_reply": "2025-07-25T07:01:24.904070Z"
    },
    "papermill": {
     "duration": 6.083968,
     "end_time": "2025-07-25T07:01:24.906548",
     "exception": false,
     "start_time": "2025-07-25T07:01:18.822580",
     "status": "completed"
    },
    "tags": []
   },
   "outputs": [
    {
     "name": "stdout",
     "output_type": "stream",
     "text": [
      "Accuracy: 0.6387981711299804\n",
      "Classification Report:\n",
      "               precision    recall  f1-score   support\n",
      "\n",
      "           0       0.63      0.67      0.65      2073\n",
      "           1       0.20      0.05      0.08       238\n",
      "           2       0.66      0.67      0.67      2282\n",
      "\n",
      "    accuracy                           0.64      4593\n",
      "   macro avg       0.50      0.46      0.46      4593\n",
      "weighted avg       0.62      0.64      0.63      4593\n",
      "\n"
     ]
    }
   ],
   "source": [
    "from sklearn.model_selection import train_test_split\n",
    "from sklearn.ensemble import RandomForestClassifier\n",
    "from sklearn.metrics import classification_report, accuracy_score\n",
    "\n",
    "X_train, X_test, y_train, y_test = train_test_split(X, y, test_size=0.3, random_state=42)\n",
    "\n",
    "model = RandomForestClassifier(random_state=42)\n",
    "model.fit(X_train, y_train)\n",
    "y_pred = model.predict(X_test)\n",
    "\n",
    "print(\"Accuracy:\", accuracy_score(y_test, y_pred))\n",
    "print(\"Classification Report:\\n\", classification_report(y_test, y_pred))\n"
   ]
  },
  {
   "cell_type": "code",
   "execution_count": 21,
   "id": "2013dfa1",
   "metadata": {
    "execution": {
     "iopub.execute_input": "2025-07-25T07:01:24.927091Z",
     "iopub.status.busy": "2025-07-25T07:01:24.926758Z",
     "iopub.status.idle": "2025-07-25T07:01:24.935227Z",
     "shell.execute_reply": "2025-07-25T07:01:24.934178Z"
    },
    "papermill": {
     "duration": 0.019663,
     "end_time": "2025-07-25T07:01:24.936493",
     "exception": false,
     "start_time": "2025-07-25T07:01:24.916830",
     "status": "completed"
    },
    "tags": []
   },
   "outputs": [
    {
     "name": "stdout",
     "output_type": "stream",
     "text": [
      "return_direction_encoded\n",
      "2    7504\n",
      "0    7018\n",
      "1     788\n",
      "Name: count, dtype: int64\n"
     ]
    }
   ],
   "source": [
    "print(stock_df['return_direction_encoded'].value_counts())\n",
    "\n"
   ]
  },
  {
   "cell_type": "code",
   "execution_count": 22,
   "id": "75c492b3",
   "metadata": {
    "execution": {
     "iopub.execute_input": "2025-07-25T07:01:24.956375Z",
     "iopub.status.busy": "2025-07-25T07:01:24.955732Z",
     "iopub.status.idle": "2025-07-25T07:01:29.799797Z",
     "shell.execute_reply": "2025-07-25T07:01:29.798633Z"
    },
    "papermill": {
     "duration": 4.85594,
     "end_time": "2025-07-25T07:01:29.801464",
     "exception": false,
     "start_time": "2025-07-25T07:01:24.945524",
     "status": "completed"
    },
    "tags": []
   },
   "outputs": [
    {
     "name": "stdout",
     "output_type": "stream",
     "text": [
      " Accuracy: 0.6329\n",
      "\n",
      " Classification Report:\n",
      "               precision    recall  f1-score   support\n",
      "\n",
      "           0       0.62      0.66      0.64      2073\n",
      "           1       0.25      0.06      0.10       238\n",
      "           2       0.65      0.67      0.66      2282\n",
      "\n",
      "    accuracy                           0.63      4593\n",
      "   macro avg       0.51      0.46      0.47      4593\n",
      "weighted avg       0.62      0.63      0.62      4593\n",
      "\n",
      "\n",
      " Confusion Matrix:\n",
      " [[1369   13  691]\n",
      " [ 102   15  121]\n",
      " [ 727   32 1523]]\n"
     ]
    }
   ],
   "source": [
    "from sklearn.ensemble import RandomForestClassifier\n",
    "from sklearn.metrics import accuracy_score, classification_report, confusion_matrix\n",
    "\n",
    "model = RandomForestClassifier(class_weight='balanced', random_state=42)\n",
    "\n",
    "model.fit(X_train, y_train)\n",
    "\n",
    "y_pred = model.predict(X_test)\n",
    "\n",
    "accuracy = accuracy_score(y_test, y_pred)\n",
    "report = classification_report(y_test, y_pred)\n",
    "conf_matrix = confusion_matrix(y_test, y_pred)\n",
    "\n",
    "print(f\" Accuracy: {accuracy:.4f}\")\n",
    "print(\"\\n Classification Report:\\n\", report)\n",
    "print(\"\\n Confusion Matrix:\\n\", conf_matrix)\n",
    "\n"
   ]
  },
  {
   "cell_type": "code",
   "execution_count": 23,
   "id": "d2cba53b",
   "metadata": {
    "execution": {
     "iopub.execute_input": "2025-07-25T07:01:29.821313Z",
     "iopub.status.busy": "2025-07-25T07:01:29.821013Z",
     "iopub.status.idle": "2025-07-25T07:01:33.548846Z",
     "shell.execute_reply": "2025-07-25T07:01:33.547505Z"
    },
    "papermill": {
     "duration": 3.739691,
     "end_time": "2025-07-25T07:01:33.550498",
     "exception": false,
     "start_time": "2025-07-25T07:01:29.810807",
     "status": "completed"
    },
    "tags": []
   },
   "outputs": [
    {
     "name": "stdout",
     "output_type": "stream",
     "text": [
      "Requirement already satisfied: xgboost in /usr/local/lib/python3.11/dist-packages (2.0.3)\r\n",
      "Requirement already satisfied: imbalanced-learn in /usr/local/lib/python3.11/dist-packages (0.13.0)\r\n",
      "Requirement already satisfied: numpy in /usr/local/lib/python3.11/dist-packages (from xgboost) (1.26.4)\r\n",
      "Requirement already satisfied: scipy in /usr/local/lib/python3.11/dist-packages (from xgboost) (1.15.3)\r\n",
      "Requirement already satisfied: scikit-learn<2,>=1.3.2 in /usr/local/lib/python3.11/dist-packages (from imbalanced-learn) (1.6.1)\r\n",
      "Requirement already satisfied: sklearn-compat<1,>=0.1 in /usr/local/lib/python3.11/dist-packages (from imbalanced-learn) (0.1.3)\r\n",
      "Requirement already satisfied: joblib<2,>=1.1.1 in /usr/local/lib/python3.11/dist-packages (from imbalanced-learn) (1.5.1)\r\n",
      "Requirement already satisfied: threadpoolctl<4,>=2.0.0 in /usr/local/lib/python3.11/dist-packages (from imbalanced-learn) (3.6.0)\r\n",
      "Requirement already satisfied: mkl_fft in /usr/local/lib/python3.11/dist-packages (from numpy->xgboost) (1.3.8)\r\n",
      "Requirement already satisfied: mkl_random in /usr/local/lib/python3.11/dist-packages (from numpy->xgboost) (1.2.4)\r\n",
      "Requirement already satisfied: mkl_umath in /usr/local/lib/python3.11/dist-packages (from numpy->xgboost) (0.1.1)\r\n",
      "Requirement already satisfied: mkl in /usr/local/lib/python3.11/dist-packages (from numpy->xgboost) (2025.2.0)\r\n",
      "Requirement already satisfied: tbb4py in /usr/local/lib/python3.11/dist-packages (from numpy->xgboost) (2022.2.0)\r\n",
      "Requirement already satisfied: mkl-service in /usr/local/lib/python3.11/dist-packages (from numpy->xgboost) (2.4.1)\r\n",
      "Requirement already satisfied: intel-openmp<2026,>=2024 in /usr/local/lib/python3.11/dist-packages (from mkl->numpy->xgboost) (2024.2.0)\r\n",
      "Requirement already satisfied: tbb==2022.* in /usr/local/lib/python3.11/dist-packages (from mkl->numpy->xgboost) (2022.2.0)\r\n",
      "Requirement already satisfied: tcmlib==1.* in /usr/local/lib/python3.11/dist-packages (from tbb==2022.*->mkl->numpy->xgboost) (1.4.0)\r\n",
      "Requirement already satisfied: intel-cmplr-lib-rt in /usr/local/lib/python3.11/dist-packages (from mkl_umath->numpy->xgboost) (2024.2.0)\r\n",
      "Requirement already satisfied: intel-cmplr-lib-ur==2024.2.0 in /usr/local/lib/python3.11/dist-packages (from intel-openmp<2026,>=2024->mkl->numpy->xgboost) (2024.2.0)\r\n",
      "Note: you may need to restart the kernel to use updated packages.\n"
     ]
    }
   ],
   "source": [
    "pip install xgboost imbalanced-learn\n"
   ]
  },
  {
   "cell_type": "code",
   "execution_count": 24,
   "id": "1ff75a31",
   "metadata": {
    "execution": {
     "iopub.execute_input": "2025-07-25T07:01:33.571395Z",
     "iopub.status.busy": "2025-07-25T07:01:33.570924Z",
     "iopub.status.idle": "2025-07-25T07:01:40.464097Z",
     "shell.execute_reply": "2025-07-25T07:01:40.462832Z"
    },
    "papermill": {
     "duration": 6.905512,
     "end_time": "2025-07-25T07:01:40.465954",
     "exception": false,
     "start_time": "2025-07-25T07:01:33.560442",
     "status": "completed"
    },
    "tags": []
   },
   "outputs": [
    {
     "name": "stdout",
     "output_type": "stream",
     "text": [
      "Requirement already satisfied: scikit-learn in /usr/local/lib/python3.11/dist-packages (1.6.1)\r\n",
      "Collecting scikit-learn\r\n",
      "  Using cached scikit_learn-1.7.1-cp311-cp311-manylinux2014_x86_64.manylinux_2_17_x86_64.whl.metadata (11 kB)\r\n",
      "Requirement already satisfied: numpy>=1.22.0 in /usr/local/lib/python3.11/dist-packages (from scikit-learn) (1.26.4)\r\n",
      "Requirement already satisfied: scipy>=1.8.0 in /usr/local/lib/python3.11/dist-packages (from scikit-learn) (1.15.3)\r\n",
      "Requirement already satisfied: joblib>=1.2.0 in /usr/local/lib/python3.11/dist-packages (from scikit-learn) (1.5.1)\r\n",
      "Requirement already satisfied: threadpoolctl>=3.1.0 in /usr/local/lib/python3.11/dist-packages (from scikit-learn) (3.6.0)\r\n",
      "Requirement already satisfied: mkl_fft in /usr/local/lib/python3.11/dist-packages (from numpy>=1.22.0->scikit-learn) (1.3.8)\r\n",
      "Requirement already satisfied: mkl_random in /usr/local/lib/python3.11/dist-packages (from numpy>=1.22.0->scikit-learn) (1.2.4)\r\n",
      "Requirement already satisfied: mkl_umath in /usr/local/lib/python3.11/dist-packages (from numpy>=1.22.0->scikit-learn) (0.1.1)\r\n",
      "Requirement already satisfied: mkl in /usr/local/lib/python3.11/dist-packages (from numpy>=1.22.0->scikit-learn) (2025.2.0)\r\n",
      "Requirement already satisfied: tbb4py in /usr/local/lib/python3.11/dist-packages (from numpy>=1.22.0->scikit-learn) (2022.2.0)\r\n",
      "Requirement already satisfied: mkl-service in /usr/local/lib/python3.11/dist-packages (from numpy>=1.22.0->scikit-learn) (2.4.1)\r\n",
      "Requirement already satisfied: intel-openmp<2026,>=2024 in /usr/local/lib/python3.11/dist-packages (from mkl->numpy>=1.22.0->scikit-learn) (2024.2.0)\r\n",
      "Requirement already satisfied: tbb==2022.* in /usr/local/lib/python3.11/dist-packages (from mkl->numpy>=1.22.0->scikit-learn) (2022.2.0)\r\n",
      "Requirement already satisfied: tcmlib==1.* in /usr/local/lib/python3.11/dist-packages (from tbb==2022.*->mkl->numpy>=1.22.0->scikit-learn) (1.4.0)\r\n",
      "Requirement already satisfied: intel-cmplr-lib-rt in /usr/local/lib/python3.11/dist-packages (from mkl_umath->numpy>=1.22.0->scikit-learn) (2024.2.0)\r\n",
      "Requirement already satisfied: intel-cmplr-lib-ur==2024.2.0 in /usr/local/lib/python3.11/dist-packages (from intel-openmp<2026,>=2024->mkl->numpy>=1.22.0->scikit-learn) (2024.2.0)\r\n",
      "Downloading scikit_learn-1.7.1-cp311-cp311-manylinux2014_x86_64.manylinux_2_17_x86_64.whl (9.7 MB)\r\n",
      "\u001b[2K   \u001b[90m━━━━━━━━━━━━━━━━━━━━━━━━━━━━━━━━━━━━━━━━\u001b[0m \u001b[32m9.7/9.7 MB\u001b[0m \u001b[31m87.9 MB/s\u001b[0m eta \u001b[36m0:00:00\u001b[0m\r\n",
      "\u001b[?25hInstalling collected packages: scikit-learn\r\n",
      "  Attempting uninstall: scikit-learn\r\n",
      "    Found existing installation: scikit-learn 1.6.1\r\n",
      "    Uninstalling scikit-learn-1.6.1:\r\n",
      "      Successfully uninstalled scikit-learn-1.6.1\r\n",
      "\u001b[31mERROR: pip's dependency resolver does not currently take into account all the packages that are installed. This behaviour is the source of the following dependency conflicts.\r\n",
      "category-encoders 2.7.0 requires scikit-learn<1.6.0,>=1.0.0, but you have scikit-learn 1.7.1 which is incompatible.\r\n",
      "cesium 0.12.4 requires numpy<3.0,>=2.0, but you have numpy 1.26.4 which is incompatible.\r\n",
      "sklearn-compat 0.1.3 requires scikit-learn<1.7,>=1.2, but you have scikit-learn 1.7.1 which is incompatible.\u001b[0m\u001b[31m\r\n",
      "\u001b[0mSuccessfully installed scikit-learn-1.7.1\r\n",
      "Note: you may need to restart the kernel to use updated packages.\n"
     ]
    }
   ],
   "source": [
    "pip install --upgrade scikit-learn\n"
   ]
  },
  {
   "cell_type": "code",
   "execution_count": 25,
   "id": "16573f4e",
   "metadata": {
    "execution": {
     "iopub.execute_input": "2025-07-25T07:01:40.487575Z",
     "iopub.status.busy": "2025-07-25T07:01:40.487194Z",
     "iopub.status.idle": "2025-07-25T07:01:47.338305Z",
     "shell.execute_reply": "2025-07-25T07:01:47.337095Z"
    },
    "papermill": {
     "duration": 6.863654,
     "end_time": "2025-07-25T07:01:47.339804",
     "exception": false,
     "start_time": "2025-07-25T07:01:40.476150",
     "status": "completed"
    },
    "tags": []
   },
   "outputs": [
    {
     "name": "stdout",
     "output_type": "stream",
     "text": [
      "Requirement already satisfied: imbalanced-learn in /usr/local/lib/python3.11/dist-packages (0.13.0)\r\n",
      "Requirement already satisfied: numpy<3,>=1.24.3 in /usr/local/lib/python3.11/dist-packages (from imbalanced-learn) (1.26.4)\r\n",
      "Requirement already satisfied: scipy<2,>=1.10.1 in /usr/local/lib/python3.11/dist-packages (from imbalanced-learn) (1.15.3)\r\n",
      "Requirement already satisfied: scikit-learn<2,>=1.3.2 in /usr/local/lib/python3.11/dist-packages (from imbalanced-learn) (1.7.1)\r\n",
      "Requirement already satisfied: sklearn-compat<1,>=0.1 in /usr/local/lib/python3.11/dist-packages (from imbalanced-learn) (0.1.3)\r\n",
      "Requirement already satisfied: joblib<2,>=1.1.1 in /usr/local/lib/python3.11/dist-packages (from imbalanced-learn) (1.5.1)\r\n",
      "Requirement already satisfied: threadpoolctl<4,>=2.0.0 in /usr/local/lib/python3.11/dist-packages (from imbalanced-learn) (3.6.0)\r\n",
      "Requirement already satisfied: mkl_fft in /usr/local/lib/python3.11/dist-packages (from numpy<3,>=1.24.3->imbalanced-learn) (1.3.8)\r\n",
      "Requirement already satisfied: mkl_random in /usr/local/lib/python3.11/dist-packages (from numpy<3,>=1.24.3->imbalanced-learn) (1.2.4)\r\n",
      "Requirement already satisfied: mkl_umath in /usr/local/lib/python3.11/dist-packages (from numpy<3,>=1.24.3->imbalanced-learn) (0.1.1)\r\n",
      "Requirement already satisfied: mkl in /usr/local/lib/python3.11/dist-packages (from numpy<3,>=1.24.3->imbalanced-learn) (2025.2.0)\r\n",
      "Requirement already satisfied: tbb4py in /usr/local/lib/python3.11/dist-packages (from numpy<3,>=1.24.3->imbalanced-learn) (2022.2.0)\r\n",
      "Requirement already satisfied: mkl-service in /usr/local/lib/python3.11/dist-packages (from numpy<3,>=1.24.3->imbalanced-learn) (2.4.1)\r\n",
      "Collecting scikit-learn<2,>=1.3.2 (from imbalanced-learn)\r\n",
      "  Using cached scikit_learn-1.6.1-cp311-cp311-manylinux_2_17_x86_64.manylinux2014_x86_64.whl.metadata (18 kB)\r\n",
      "Requirement already satisfied: intel-openmp<2026,>=2024 in /usr/local/lib/python3.11/dist-packages (from mkl->numpy<3,>=1.24.3->imbalanced-learn) (2024.2.0)\r\n",
      "Requirement already satisfied: tbb==2022.* in /usr/local/lib/python3.11/dist-packages (from mkl->numpy<3,>=1.24.3->imbalanced-learn) (2022.2.0)\r\n",
      "Requirement already satisfied: tcmlib==1.* in /usr/local/lib/python3.11/dist-packages (from tbb==2022.*->mkl->numpy<3,>=1.24.3->imbalanced-learn) (1.4.0)\r\n",
      "Requirement already satisfied: intel-cmplr-lib-rt in /usr/local/lib/python3.11/dist-packages (from mkl_umath->numpy<3,>=1.24.3->imbalanced-learn) (2024.2.0)\r\n",
      "Requirement already satisfied: intel-cmplr-lib-ur==2024.2.0 in /usr/local/lib/python3.11/dist-packages (from intel-openmp<2026,>=2024->mkl->numpy<3,>=1.24.3->imbalanced-learn) (2024.2.0)\r\n",
      "Using cached scikit_learn-1.6.1-cp311-cp311-manylinux_2_17_x86_64.manylinux2014_x86_64.whl (13.5 MB)\r\n",
      "Installing collected packages: scikit-learn\r\n",
      "  Attempting uninstall: scikit-learn\r\n",
      "    Found existing installation: scikit-learn 1.7.1\r\n",
      "    Uninstalling scikit-learn-1.7.1:\r\n",
      "      Successfully uninstalled scikit-learn-1.7.1\r\n",
      "\u001b[31mERROR: pip's dependency resolver does not currently take into account all the packages that are installed. This behaviour is the source of the following dependency conflicts.\r\n",
      "category-encoders 2.7.0 requires scikit-learn<1.6.0,>=1.0.0, but you have scikit-learn 1.6.1 which is incompatible.\r\n",
      "cesium 0.12.4 requires numpy<3.0,>=2.0, but you have numpy 1.26.4 which is incompatible.\u001b[0m\u001b[31m\r\n",
      "\u001b[0mSuccessfully installed scikit-learn-1.6.1\r\n",
      "Note: you may need to restart the kernel to use updated packages.\n"
     ]
    }
   ],
   "source": [
    "pip install --upgrade imbalanced-learn\n"
   ]
  },
  {
   "cell_type": "code",
   "execution_count": 26,
   "id": "8f9b42b6",
   "metadata": {
    "execution": {
     "iopub.execute_input": "2025-07-25T07:01:47.362172Z",
     "iopub.status.busy": "2025-07-25T07:01:47.361830Z",
     "iopub.status.idle": "2025-07-25T07:01:49.919428Z",
     "shell.execute_reply": "2025-07-25T07:01:49.918500Z"
    },
    "papermill": {
     "duration": 2.571142,
     "end_time": "2025-07-25T07:01:49.921578",
     "exception": false,
     "start_time": "2025-07-25T07:01:47.350436",
     "status": "completed"
    },
    "tags": []
   },
   "outputs": [],
   "source": [
    "coca_cola_stock = pd.read_excel('/kaggle/input/coca-cola-stock/coca_stock_cleaned.xlsx')\n",
    "\n",
    "\n"
   ]
  },
  {
   "cell_type": "code",
   "execution_count": 27,
   "id": "8605181a",
   "metadata": {
    "execution": {
     "iopub.execute_input": "2025-07-25T07:01:49.950754Z",
     "iopub.status.busy": "2025-07-25T07:01:49.949845Z",
     "iopub.status.idle": "2025-07-25T07:01:49.955284Z",
     "shell.execute_reply": "2025-07-25T07:01:49.954401Z"
    },
    "papermill": {
     "duration": 0.018096,
     "end_time": "2025-07-25T07:01:49.956595",
     "exception": false,
     "start_time": "2025-07-25T07:01:49.938499",
     "status": "completed"
    },
    "tags": []
   },
   "outputs": [
    {
     "name": "stdout",
     "output_type": "stream",
     "text": [
      "['Date', 'Open', 'High', 'Low', 'Close', 'Volume', 'Dividends', 'Stock_Splits', 'Daily_Return', 'Price_Range', 'Moving_Avg _(5-day)', 'Cumulative_Return']\n"
     ]
    }
   ],
   "source": [
    "print(coca_cola_stock.columns.tolist())\n"
   ]
  },
  {
   "cell_type": "code",
   "execution_count": 28,
   "id": "6fc0fedd",
   "metadata": {
    "execution": {
     "iopub.execute_input": "2025-07-25T07:01:49.979174Z",
     "iopub.status.busy": "2025-07-25T07:01:49.978352Z",
     "iopub.status.idle": "2025-07-25T07:01:49.998118Z",
     "shell.execute_reply": "2025-07-25T07:01:49.997323Z"
    },
    "papermill": {
     "duration": 0.032543,
     "end_time": "2025-07-25T07:01:49.999790",
     "exception": false,
     "start_time": "2025-07-25T07:01:49.967247",
     "status": "completed"
    },
    "tags": []
   },
   "outputs": [],
   "source": [
    "\n",
    "coca_cola_stock['return_direction'] = coca_cola_stock['Daily_Return'].apply(lambda x: 1 if x > 0 else 0)\n"
   ]
  },
  {
   "cell_type": "code",
   "execution_count": 29,
   "id": "6ad9c8e1",
   "metadata": {
    "execution": {
     "iopub.execute_input": "2025-07-25T07:01:50.028972Z",
     "iopub.status.busy": "2025-07-25T07:01:50.028651Z",
     "iopub.status.idle": "2025-07-25T07:02:01.699382Z",
     "shell.execute_reply": "2025-07-25T07:02:01.698365Z"
    },
    "papermill": {
     "duration": 11.68426,
     "end_time": "2025-07-25T07:02:01.701117",
     "exception": false,
     "start_time": "2025-07-25T07:01:50.016857",
     "status": "completed"
    },
    "tags": []
   },
   "outputs": [
    {
     "name": "stdout",
     "output_type": "stream",
     "text": [
      "Logistic Regression:\n",
      "               precision    recall  f1-score   support\n",
      "\n",
      "           0       0.53      0.64      0.58      1577\n",
      "           1       0.51      0.40      0.45      1486\n",
      "\n",
      "    accuracy                           0.52      3063\n",
      "   macro avg       0.52      0.52      0.52      3063\n",
      "weighted avg       0.52      0.52      0.52      3063\n",
      "\n",
      "Random Forest:\n",
      "               precision    recall  f1-score   support\n",
      "\n",
      "           0       1.00      1.00      1.00      1577\n",
      "           1       1.00      1.00      1.00      1486\n",
      "\n",
      "    accuracy                           1.00      3063\n",
      "   macro avg       1.00      1.00      1.00      3063\n",
      "weighted avg       1.00      1.00      1.00      3063\n",
      "\n",
      "Support Vector Machine:\n",
      "               precision    recall  f1-score   support\n",
      "\n",
      "           0       0.53      0.69      0.60      1577\n",
      "           1       0.52      0.36      0.43      1486\n",
      "\n",
      "    accuracy                           0.53      3063\n",
      "   macro avg       0.53      0.52      0.51      3063\n",
      "weighted avg       0.53      0.53      0.52      3063\n",
      "\n"
     ]
    }
   ],
   "source": [
    "from sklearn.model_selection import train_test_split\n",
    "from sklearn.preprocessing import LabelEncoder\n",
    "from sklearn.ensemble import RandomForestClassifier\n",
    "from sklearn.linear_model import LogisticRegression\n",
    "from sklearn.svm import SVC\n",
    "from sklearn.metrics import classification_report, confusion_matrix\n",
    "\n",
    "label_encoder = LabelEncoder()\n",
    "coca_cola_stock['return_direction_encoded'] = label_encoder.fit_transform(coca_cola_stock['return_direction'])\n",
    "\n",
    "X = coca_cola_stock.drop(columns=['Date', 'return_direction', 'return_direction_encoded'])\n",
    "y = coca_cola_stock['return_direction_encoded']\n",
    "\n",
    "X_train, X_test, y_train, y_test = train_test_split(X, y, test_size=0.2, random_state=42)\n",
    "\n",
    "# Logistic Regression\n",
    "lr = LogisticRegression(max_iter=1000)\n",
    "lr.fit(X_train, y_train)\n",
    "lr_pred = lr.predict(X_test)\n",
    "print(\"Logistic Regression:\\n\", classification_report(y_test, lr_pred))\n",
    "\n",
    "# Random Forest Classifier\n",
    "rf = RandomForestClassifier()\n",
    "rf.fit(X_train, y_train)\n",
    "rf_pred = rf.predict(X_test)\n",
    "print(\"Random Forest:\\n\", classification_report(y_test, rf_pred))\n",
    "\n",
    "# Support Vector Machine\n",
    "svc = SVC()\n",
    "svc.fit(X_train, y_train)\n",
    "svc_pred = svc.predict(X_test)\n",
    "print(\"Support Vector Machine:\\n\", classification_report(y_test, svc_pred))\n"
   ]
  },
  {
   "cell_type": "code",
   "execution_count": 30,
   "id": "f7d8eb44",
   "metadata": {
    "execution": {
     "iopub.execute_input": "2025-07-25T07:02:01.723872Z",
     "iopub.status.busy": "2025-07-25T07:02:01.723099Z",
     "iopub.status.idle": "2025-07-25T07:02:01.745926Z",
     "shell.execute_reply": "2025-07-25T07:02:01.745116Z"
    },
    "papermill": {
     "duration": 0.035808,
     "end_time": "2025-07-25T07:02:01.747617",
     "exception": false,
     "start_time": "2025-07-25T07:02:01.711809",
     "status": "completed"
    },
    "tags": []
   },
   "outputs": [],
   "source": [
    "from sklearn.preprocessing import StandardScaler\n",
    "\n",
    "scaler = StandardScaler()\n",
    "X_scaled = scaler.fit_transform(X)\n",
    "\n",
    "X_train, X_test, y_train, y_test = train_test_split(X_scaled, y, test_size=0.2, random_state=42)\n"
   ]
  },
  {
   "cell_type": "code",
   "execution_count": 31,
   "id": "7dc248f3",
   "metadata": {
    "execution": {
     "iopub.execute_input": "2025-07-25T07:02:01.770084Z",
     "iopub.status.busy": "2025-07-25T07:02:01.769783Z",
     "iopub.status.idle": "2025-07-25T07:02:02.690030Z",
     "shell.execute_reply": "2025-07-25T07:02:02.689144Z"
    },
    "papermill": {
     "duration": 0.933476,
     "end_time": "2025-07-25T07:02:02.691718",
     "exception": false,
     "start_time": "2025-07-25T07:02:01.758242",
     "status": "completed"
    },
    "tags": []
   },
   "outputs": [
    {
     "data": {
      "image/png": "[encoded data removed]",
      "text/plain": [
       "<Figure size 1000x800 with 2 Axes>"
      ]
     },
     "metadata": {},
     "output_type": "display_data"
    }
   ],
   "source": [
    "\n",
    "corr_df = coca_cola_stock.drop(columns=['Date']).copy()\n",
    "corr_df['target'] = y\n",
    "\n",
    "corr_matrix = corr_df.corr()\n",
    "\n",
    "import seaborn as sns\n",
    "import matplotlib.pyplot as plt\n",
    "\n",
    "plt.figure(figsize=(10, 8))\n",
    "sns.heatmap(corr_matrix[['target']].sort_values(by='target', ascending=False), annot=True, cmap='coolwarm')\n",
    "plt.title(\"Feature Correlation with Target\")\n",
    "plt.show()\n"
   ]
  },
  {
   "cell_type": "code",
   "execution_count": 32,
   "id": "27eeb6e5",
   "metadata": {
    "execution": {
     "iopub.execute_input": "2025-07-25T07:02:02.716912Z",
     "iopub.status.busy": "2025-07-25T07:02:02.716128Z",
     "iopub.status.idle": "2025-07-25T07:02:03.274568Z",
     "shell.execute_reply": "2025-07-25T07:02:03.273567Z"
    },
    "papermill": {
     "duration": 0.572715,
     "end_time": "2025-07-25T07:02:03.276569",
     "exception": false,
     "start_time": "2025-07-25T07:02:02.703854",
     "status": "completed"
    },
    "tags": []
   },
   "outputs": [
    {
     "name": "stdout",
     "output_type": "stream",
     "text": [
      "Logistic Regression CV Accuracy: 0.9809935828336481\n"
     ]
    }
   ],
   "source": [
    "from sklearn.model_selection import cross_val_score\n",
    "\n",
    "cv_scores = cross_val_score(lr, X_scaled, y, cv=5)\n",
    "print(\"Logistic Regression CV Accuracy:\", cv_scores.mean())\n"
   ]
  },
  {
   "cell_type": "code",
   "execution_count": 33,
   "id": "9cdf3ab5",
   "metadata": {
    "execution": {
     "iopub.execute_input": "2025-07-25T07:02:03.317200Z",
     "iopub.status.busy": "2025-07-25T07:02:03.316844Z",
     "iopub.status.idle": "2025-07-25T07:02:03.750286Z",
     "shell.execute_reply": "2025-07-25T07:02:03.749283Z"
    },
    "papermill": {
     "duration": 0.455956,
     "end_time": "2025-07-25T07:02:03.752079",
     "exception": false,
     "start_time": "2025-07-25T07:02:03.296123",
     "status": "completed"
    },
    "tags": []
   },
   "outputs": [
    {
     "name": "stdout",
     "output_type": "stream",
     "text": [
      "Logistic Regression CV Accuracy: 1.0\n"
     ]
    }
   ],
   "source": [
    "from sklearn.linear_model import LogisticRegression\n",
    "from sklearn.model_selection import cross_val_score, StratifiedKFold\n",
    "from sklearn.pipeline import Pipeline\n",
    "from sklearn.preprocessing import StandardScaler\n",
    "import numpy as np\n",
    "\n",
    "X = coca_cola_stock.drop(columns=['Date']) \n",
    "y = coca_cola_stock['return_direction_encoded']  \n",
    "\n",
    "pipeline = Pipeline([\n",
    "    ('scaler', StandardScaler()),\n",
    "    ('logreg', LogisticRegression(max_iter=1000, random_state=42))\n",
    "])\n",
    "\n",
    "cv = StratifiedKFold(n_splits=5, shuffle=True, random_state=42)\n",
    "scores = cross_val_score(pipeline, X, y, cv=cv, scoring='accuracy')\n",
    "\n",
    "print(\"Logistic Regression CV Accuracy:\", np.mean(scores))\n"
   ]
  },
  {
   "cell_type": "code",
   "execution_count": 34,
   "id": "192cbf1b",
   "metadata": {
    "execution": {
     "iopub.execute_input": "2025-07-25T07:02:03.795296Z",
     "iopub.status.busy": "2025-07-25T07:02:03.793725Z",
     "iopub.status.idle": "2025-07-25T07:02:08.054954Z",
     "shell.execute_reply": "2025-07-25T07:02:08.054029Z"
    },
    "papermill": {
     "duration": 4.284074,
     "end_time": "2025-07-25T07:02:08.056518",
     "exception": false,
     "start_time": "2025-07-25T07:02:03.772444",
     "status": "completed"
    },
    "tags": []
   },
   "outputs": [
    {
     "name": "stdout",
     "output_type": "stream",
     "text": [
      "Random Forest CV Accuracy: 1.0\n"
     ]
    }
   ],
   "source": [
    "from sklearn.ensemble import RandomForestClassifier\n",
    "\n",
    "rf_pipeline = Pipeline([\n",
    "    ('scaler', StandardScaler()),  \n",
    "    ('rf', RandomForestClassifier(n_estimators=100, random_state=42))\n",
    "])\n",
    "\n",
    "rf_scores = cross_val_score(rf_pipeline, X, y, cv=cv, scoring='accuracy')\n",
    "print(\"Random Forest CV Accuracy:\", np.mean(rf_scores))\n"
   ]
  },
  {
   "cell_type": "code",
   "execution_count": 35,
   "id": "afd34e00",
   "metadata": {
    "execution": {
     "iopub.execute_input": "2025-07-25T07:02:08.081739Z",
     "iopub.status.busy": "2025-07-25T07:02:08.081397Z",
     "iopub.status.idle": "2025-07-25T07:02:08.793866Z",
     "shell.execute_reply": "2025-07-25T07:02:08.792626Z"
    },
    "papermill": {
     "duration": 0.726751,
     "end_time": "2025-07-25T07:02:08.795510",
     "exception": false,
     "start_time": "2025-07-25T07:02:08.068759",
     "status": "completed"
    },
    "tags": []
   },
   "outputs": [
    {
     "name": "stdout",
     "output_type": "stream",
     "text": [
      "SVM CV Accuracy: 0.9996734373923782\n"
     ]
    }
   ],
   "source": [
    "from sklearn.svm import SVC\n",
    "\n",
    "svm_pipeline = Pipeline([\n",
    "    ('scaler', StandardScaler()),\n",
    "    ('svm', SVC(kernel='rbf', random_state=42))\n",
    "])\n",
    "\n",
    "svm_scores = cross_val_score(svm_pipeline, X, y, cv=cv, scoring='accuracy')\n",
    "print(\"SVM CV Accuracy:\", np.mean(svm_scores))\n"
   ]
  },
  {
   "cell_type": "markdown",
   "id": "4601e8e1",
   "metadata": {
    "papermill": {
     "duration": 0.011457,
     "end_time": "2025-07-25T07:02:08.818698",
     "exception": false,
     "start_time": "2025-07-25T07:02:08.807241",
     "status": "completed"
    },
    "tags": []
   },
   "source": [
    "In this project, I analyzed Coca-Cola's stock data and built multiple machine learning models to classify the direction of daily returns.\n",
    "\n",
    "After cleaning and engineering features like moving averages, cumulative returns, and price range, we trained Logistic Regression, Random Forest, and SVM models.\n",
    "\n",
    "All models achieved exceptionally high accuracy, with Random Forest and Logistic Regression reaching 100% CV accuracy, and SVM close behind with 99.96%.\n",
    "\n",
    "These results highlight:\n",
    "\n",
    "The strength and predictability of the engineered features.\n",
    "\n",
    "The clear separability between positive and negative return classes.\n",
    "\n",
    "Recommendations & Next Steps\n",
    "Test on Unseen / Real-Time Data\n",
    "\n",
    "Validate the models using real-time stock data or out-of-time samples to ensure they generalize well.\n",
    "\n",
    "Handle Overfitting\n",
    "\n",
    "Perfect accuracy might indicate overfitting. Try tuning hyperparameters or reducing feature complexity.\n",
    "\n",
    "Deploy as a Live System (Optional)\n",
    "\n",
    "Use streamlit or flask to turn this model into a simple dashboard that shows Coca-Cola's predicted return direction daily.\n",
    "\n"
   ]
  }
 ],
 "metadata": {
  "kaggle": {
   "accelerator": "none",
   "dataSources": [
    {
     "datasetId": 7917286,
     "sourceId": 12540815,
     "sourceType": "datasetVersion"
    },
    {
     "datasetId": 7917295,
     "sourceId": 12540827,
     "sourceType": "datasetVersion"
    }
   ],
   "dockerImageVersionId": 31089,
   "isGpuEnabled": false,
   "isInternetEnabled": true,
   "language": "python",
   "sourceType": "notebook"
  },
  "kernelspec": {
   "display_name": "Python 3",
   "language": "python",
   "name": "python3"
  },
  "language_info": {
   "codemirror_mode": {
    "name": "ipython",
    "version": 3
   },
   "file_extension": ".py",
   "mimetype": "text/x-python",
   "name": "python",
   "nbconvert_exporter": "python",
   "pygments_lexer": "ipython3",
   "version": "3.11.13"
  },
  "papermill": {
   "default_parameters": {},
   "duration": 90.621856,
   "end_time": "2025-07-25T07:02:09.650619",
   "environment_variables": {},
   "exception": null,
   "input_path": "__notebook__.ipynb",
   "output_path": "__notebook__.ipynb",
   "parameters": {},
   "start_time": "2025-07-25T07:00:39.028763",
   "version": "2.6.0"
  }
 },
 "nbformat": 4,
 "nbformat_minor": 5
}
